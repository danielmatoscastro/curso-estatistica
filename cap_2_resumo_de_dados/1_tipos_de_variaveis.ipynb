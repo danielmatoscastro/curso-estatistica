{
 "cells": [
  {
   "cell_type": "markdown",
   "metadata": {},
   "source": [
    "# Capítulo 2 - Resumo de Dados\n",
    "## Tipos de variáveis"
   ]
  },
  {
   "cell_type": "markdown",
   "metadata": {},
   "source": [
    "Um conjunto de dados (dataset) costuma ser composto por uma coleção de registros (tabela), sendo que cada registro possui diferentes atributos/variáveis.\n",
    "As variáveis de um dataset podem ser classificadas em:\n",
    "* **Qualitativas (categóriocas):**\n",
    "    * *Nominais*: São aquelas que simplesmente são um rótulo ou nome. Na tabela abaixo, **Região de Procedência** é uma variável qualitativa nominal.\n",
    "    * *Ordinais*: Transmitem a noção de ordem/classificação. Permitem que os dados sejam ordenados. Na tabela, **Grau de Instrução** é uma variável qualitativa ordinal.\n",
    "* **Quantitativas:**\n",
    "    * *Discretas*: São variáveis numéricas cujos valores pertencem a conjuntos discretos (finitos ou inifinitos contáveis). **Número de Filhos** é quantitativa discreta.\n",
    "    * *Contínuas*: São variáveis numéricas cujos valores pertencem a conjuntos contínuos (não-discretos). Um exemplo é a variável **Salário**."
   ]
  }
 ],
 "metadata": {
  "kernelspec": {
   "display_name": "Python 3",
   "language": "python",
   "name": "python3"
  },
  "language_info": {
   "codemirror_mode": {
    "name": "ipython",
    "version": 3
   },
   "file_extension": ".py",
   "mimetype": "text/x-python",
   "name": "python",
   "nbconvert_exporter": "python",
   "pygments_lexer": "ipython3",
   "version": "3.6.8"
  }
 },
 "nbformat": 4,
 "nbformat_minor": 2
}
