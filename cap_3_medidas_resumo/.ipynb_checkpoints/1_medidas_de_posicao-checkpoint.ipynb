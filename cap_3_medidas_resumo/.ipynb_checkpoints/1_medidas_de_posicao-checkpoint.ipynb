{
 "cells": [
  {
   "cell_type": "markdown",
   "metadata": {},
   "source": [
    "# Capítulo 3 - Medidas-resumo\n",
    "## Medidas de posição"
   ]
  },
  {
   "cell_type": "markdown",
   "metadata": {},
   "source": [
    "Frequentemente se deseja resumir uma amostra de dados a um único valor, que represente esta amostra. Intuitivamente, o valor mais representativo é aquele que estaria no \"meio\" da amostra ordenada. As medidas de tendência central servem a este propósito.\n",
    "\n",
    "A partir daqui vamos trabalhar com amostras ordenadas. Sendo $X$ uma amostra com $n$ observações, denotaremos o menor valor por $ x_{(1)} $, o segundo menor por $x_{(2)}$, e assim por diante, até o maior valor $x_{(n)}$. Chamaremos a observação $x_{(i)}$ de **i-ésima estatística de ordem**."
   ]
  },
  {
   "cell_type": "code",
   "execution_count": null,
   "metadata": {},
   "outputs": [],
   "source": []
  }
 ],
 "metadata": {
  "kernelspec": {
   "display_name": "Python 3",
   "language": "python",
   "name": "python3"
  },
  "language_info": {
   "codemirror_mode": {
    "name": "ipython",
    "version": 3
   },
   "file_extension": ".py",
   "mimetype": "text/x-python",
   "name": "python",
   "nbconvert_exporter": "python",
   "pygments_lexer": "ipython3",
   "version": "3.6.8"
  }
 },
 "nbformat": 4,
 "nbformat_minor": 4
}
