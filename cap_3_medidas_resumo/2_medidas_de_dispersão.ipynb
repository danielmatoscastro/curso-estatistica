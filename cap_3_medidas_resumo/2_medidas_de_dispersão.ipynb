{
 "cells": [
  {
   "cell_type": "markdown",
   "metadata": {},
   "source": [
    "# Capítulo 3 - Medidas-resumo\n",
    "## Medidas de dispersão"
   ]
  },
  {
   "cell_type": "markdown",
   "metadata": {},
   "source": [
    "Ter apenas uma medida de tendência central oculta alguns detalhes da amostra, como sua variabilidade. Para isso, existem as medidas de dispersão; elas medem o quão dispersos estão os valores em relação à média. Outra interpretação é que uma medida de dispersão nos dá qual o erro, em média, de substituir um valor da amostra pela média.\n",
    "\n",
    "O desvio de um valor em relação à média é a sua diferença para a média. A soma dos desvios de uma amostra *sempre* é igual a zero.\n",
    "\n",
    "Definimos o **desvio médio absoluto** como segue:\n",
    "$$\n",
    "    dm(x) = \\frac{1}{n} \\sum_{i = 1}^{n}{|x_{(i)} - \\bar{x}|}\n",
    "$$\n",
    "\n",
    "A **variância** é outra medida de dispersão e calcula-se da seguinte forma:\n",
    "$$\n",
    "    var(X) = \\frac{1}{n} \\sum_{i = 1}^{n}{(x_{(i)} - \\bar{x})^2}\n",
    "$$\n",
    "\n",
    "Um problema da variância é que, como os desvios são elevados ao quadrado, o resultado está na unidade quadrada da original ($m^2$ por exemplo). Isto dificulta a interpretação do resultado. Para resolver este problema, utilizamos o **desvio padrão**:\n",
    "$$\n",
    "    dp(X) = \\sqrt{var(X)}\n",
    "$$\n",
    "\n",
    "Se a variável é discreta, com $k$ valores únicos, temos que:\n",
    "$$\n",
    "    dm(X) = \\frac{1}{n} \\sum_{i = 1}^{k}{n_i |x_{(i)} - \\bar{x}|} = \\sum_{i = 1}^{k}{f_i |x_{(i)} - \\bar{x}|}\n",
    "$$\n",
    "$$\n",
    "    var(X) = \\frac{1}{n} \\sum_{i = 1}^{k}{n_i (x_{(i)} - \\bar{x})^2} = \\sum_{i = 1}^{k}{f_i (x_{(i)} - \\bar{x})^2}\n",
    "$$\n",
    "\n",
    "As fórmulas acima aproximam o desvio médio absoluto e a variância para variáveis contínuas, tomando $x_{(i)}$ como o ponto médio do intervalo.\n",
    "\n",
    "Todas as medidas de dispersão estudadas são influencidas por outliers, embora o desvio médio absoluto seja mais resistente. O desvio padrão e a variância são melhores quando a variável é simétrica."
   ]
  },
  {
   "cell_type": "code",
   "execution_count": null,
   "metadata": {},
   "outputs": [],
   "source": []
  }
 ],
 "metadata": {
  "kernelspec": {
   "display_name": "Python 3",
   "language": "python",
   "name": "python3"
  },
  "language_info": {
   "codemirror_mode": {
    "name": "ipython",
    "version": 3
   },
   "file_extension": ".py",
   "mimetype": "text/x-python",
   "name": "python",
   "nbconvert_exporter": "python",
   "pygments_lexer": "ipython3",
   "version": "3.6.8"
  }
 },
 "nbformat": 4,
 "nbformat_minor": 4
}
