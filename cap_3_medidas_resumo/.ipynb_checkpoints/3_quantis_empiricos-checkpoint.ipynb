{
 "cells": [
  {
   "cell_type": "markdown",
   "metadata": {},
   "source": [
    "# Capítulo 3 - Medidas-resumo\n",
    "## Quantis empíricos"
   ]
  },
  {
   "cell_type": "markdown",
   "metadata": {},
   "source": [
    "A média e o desvio padrão apresentam dois grandes problemas, a saber:\n",
    "* São influenciados por outliers.\n",
    "* Não dão informação sobre simetria/assimetria.\n",
    "\n",
    "Para resolver estes problemas, definimos outras medidas. Uma delas é o *quantil*. Dizemos que o *quantil de ordem p, ou p-quantil*\n",
    "$(0 \\lt p \\lt 1)$ é a estatística de ordem $x_{(i)}$ tal que $100p\\%$ da amostra é menor que $x_{(i)}$.\n",
    "Denotamos o *quantil de ordem p* por $q(p)$.\n",
    "\n",
    "Perceba que $q(0.5)$ é a mediana da amostra. Alguns quantis recebem nomes especiais. São eles:\n",
    "* $q(0.25) = q_1$: 1º quartil - 25º percentil.\n",
    "* $q(0.5) = q_2$: 2º quartil - 50ª percentil - mediana.\n",
    "* $q(0.75) = q_3$: 3º quartil - 75º percentil."
   ]
  },
  {
   "cell_type": "code",
   "execution_count": null,
   "metadata": {},
   "outputs": [],
   "source": []
  }
 ],
 "metadata": {
  "kernelspec": {
   "display_name": "Python 3",
   "language": "python",
   "name": "python3"
  },
  "language_info": {
   "codemirror_mode": {
    "name": "ipython",
    "version": 3
   },
   "file_extension": ".py",
   "mimetype": "text/x-python",
   "name": "python",
   "nbconvert_exporter": "python",
   "pygments_lexer": "ipython3",
   "version": "3.6.8"
  }
 },
 "nbformat": 4,
 "nbformat_minor": 4
}
