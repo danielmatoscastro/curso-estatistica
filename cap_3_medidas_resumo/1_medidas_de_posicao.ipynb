{
 "cells": [
  {
   "cell_type": "markdown",
   "metadata": {},
   "source": [
    "# Capítulo 3 - Medidas-resumo\n",
    "## Medidas de posição"
   ]
  },
  {
   "cell_type": "markdown",
   "metadata": {},
   "source": [
    "Frequentemente se deseja resumir uma amostra de dados a um único valor, que represente esta amostra. Intuitivamente, o valor mais representativo é aquele que estaria no \"meio\" da amostra ordenada. As medidas de tendência central servem a este propósito.\n",
    "\n",
    "A partir daqui vamos trabalhar com amostras ordenadas. Sendo $X$ uma amostra com $n$ observações, denotaremos o menor valor por $ x_{(1)} $, o segundo menor por $x_{(2)}$, e assim por diante, até o maior valor $x_{(n)}$. Chamaremos a observação $x_{(i)}$ de **i-ésima estatística de ordem**.\n",
    "\n",
    "**A moda** é uma medida de tendência central que é definida como o valor que mais se repete na amostra. Uma amostra pode ser:\n",
    "* Amodal: nenhum valor se repete.\n",
    "* Unimodal: existe apenas uma moda.\n",
    "* Bimodal: existem duas modas.\n",
    "* Multimodal: existem múltiplas modas.\n",
    "\n",
    "**A mediana** é o valor que divide uma amostra ao meio. Se a mediana é a observação $x_{(i)}$, então 50% dos valores são menores que $x_{(i)}$ e 50% são maiores. Calcula-se a mediana da seguinte forma:\n",
    "$$\n",
    "    Md(X) = \\left\\{ \\begin{array}{cc}\n",
    "                    x_{\\left( \\frac{n+1}{2} \\right)}&& \\;se\\;n\\;é\\;ímpar\\\\\n",
    "                    \\frac{x_{\\left( \\frac{n}{2}\\right)} + x_{\\left( \\frac{n}{2} + 1\\right)}}{2}&& \\;se\\;n\\;é\\;par\\\\\n",
    "                    \\end{array}\n",
    "             \\right.\n",
    "$$\n",
    "\n",
    "**A média** é definida como a soma dos elementos dividida pelo tamanho da amostra. Formalmente:\n",
    "$$\n",
    "    \\bar{x} = \\frac{1}{n} \\sum_{i = 1}^{n}{x_{(i)}}\n",
    "$$\n",
    "\n",
    "Se a amostra for discreta e tiver $k$ valores distintos, podemos calcular a média como segue:\n",
    "$$\n",
    "    \\bar{x} = \\frac{1}{n} \\sum_{i = 1}^{k}{n_i x_{(i)}}\n",
    "$$\n",
    "\n",
    "A fórmula acima dá uma aproximação para a média de uma amostra contínua agrupada em $k$ intervalos, tomando $x_{(i)}$ como o ponto médio do intervalo.\n",
    "\n",
    "Para o caso discreto, se tivermos a frequência relativa $f_i$ de cada valor, podemos calcular a média da seguinte forma:\n",
    "$$\n",
    "    \\bar{x} = \\sum_{i = 1}^{k}{f_i x_{(i)}}\n",
    "$$\n",
    "\n",
    "A fórmula acima também dá uma aproximação para a média de uma amaostra contínua.\n",
    "\n",
    "De todas as medidas de tendência central, a moda é aquela que pode ser realizada em qualquer tipo de variável. A mediana requer que a variável possua uma relação de ordem (variáveis ordinais ou quantitativas) e a média necessita que se possa realizar operações aritméticas sobre os dados (variáveis quantitativas apenas).\n",
    "\n",
    "A média é especialmente útil quando a variável possui distribuição normal. Na presença de outiliers ou em distribuições muito assimétricas a mediana tende a representar melhor a realidade do que a média, visto que é mais resistente a valores extremos."
   ]
  }
 ],
 "metadata": {
  "kernelspec": {
   "display_name": "Python 3",
   "language": "python",
   "name": "python3"
  },
  "language_info": {
   "codemirror_mode": {
    "name": "ipython",
    "version": 3
   },
   "file_extension": ".py",
   "mimetype": "text/x-python",
   "name": "python",
   "nbconvert_exporter": "python",
   "pygments_lexer": "ipython3",
   "version": "3.6.8"
  }
 },
 "nbformat": 4,
 "nbformat_minor": 4
}
